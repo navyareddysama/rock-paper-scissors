{
 "cells": [
  {
   "cell_type": "code",
   "execution_count": 4,
   "id": "762bc5d7-3767-4fcd-abf3-dcd77149f695",
   "metadata": {},
   "outputs": [
    {
     "name": "stdin",
     "output_type": "stream",
     "text": [
      "Choose Rock, Paper, or Scissors:  paper\n"
     ]
    },
    {
     "name": "stdout",
     "output_type": "stream",
     "text": [
      "You chose:  paper\n",
      "Computer chose:  Paper\n",
      "Computer wins!\n"
     ]
    }
   ],
   "source": [
    "\n",
    "import random\n",
    "\n",
    " \n",
    "\n",
    "options = [\"Rock\", \"Paper\", \"Scissors\"]\n",
    "\n",
    " \n",
    "\n",
    "user_choice = input(\"Choose Rock, Paper, or Scissors: \")\n",
    "\n",
    "computer_choice = random.choice(options)\n",
    "\n",
    " \n",
    "\n",
    "print(\"You chose: \", user_choice)\n",
    "\n",
    "print(\"Computer chose: \", computer_choice)\n",
    "\n",
    " \n",
    "\n",
    "if user_choice == computer_choice:\n",
    "\n",
    "    print(\"It's a tie!\")\n",
    "\n",
    "elif user_choice == \"Rock\" and computer_choice == \"Scissors\":\n",
    "\n",
    "    print(\"You win!\")\n",
    "\n",
    "elif user_choice == \"Paper\" and computer_choice == \"Rock\":\n",
    "\n",
    "    print(\"You win!\")\n",
    "\n",
    "elif user_choice == \"Scissors\" and computer_choice == \"Paper\":\n",
    "\n",
    "    print(\"You win!\")\n",
    "\n",
    "else:\n",
    "\n",
    "    print(\"Computer wins!\")\n",
    "\n"
   ]
  },
  {
   "cell_type": "code",
   "execution_count": null,
   "id": "d531bc26-8d3f-4e20-935b-20c29a53f9df",
   "metadata": {},
   "outputs": [],
   "source": []
  }
 ],
 "metadata": {
  "kernelspec": {
   "display_name": "Python 3 (ipykernel)",
   "language": "python",
   "name": "python3"
  },
  "language_info": {
   "codemirror_mode": {
    "name": "ipython",
    "version": 3
   },
   "file_extension": ".py",
   "mimetype": "text/x-python",
   "name": "python",
   "nbconvert_exporter": "python",
   "pygments_lexer": "ipython3",
   "version": "3.10.0"
  }
 },
 "nbformat": 4,
 "nbformat_minor": 5
}
